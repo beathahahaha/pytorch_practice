{
 "cells": [
  {
   "cell_type": "code",
   "execution_count": 1,
   "id": "03ad9291-6c2e-43ce-86d0-fd4e1ff7a8b6",
   "metadata": {},
   "outputs": [],
   "source": [
    "import os\n",
    "os.environ['KMP_DUPLICATE_LIB_OK'] = 'True'  #用来解决matplotlib画图重复加载版本报错"
   ]
  },
  {
   "cell_type": "code",
   "execution_count": 2,
   "id": "3fa5e9e5-31cd-4b5f-9fc1-fc1f41f1d263",
   "metadata": {},
   "outputs": [],
   "source": [
    "import torch\n",
    "import torch.nn as nn\n",
    "import numpy as np\n",
    "import pandas as pd\n",
    "import math\n",
    "import matplotlib.pyplot as plt"
   ]
  },
  {
   "cell_type": "code",
   "execution_count": 3,
   "id": "307b1a27-0988-4b34-9bd2-4af45746eb55",
   "metadata": {},
   "outputs": [],
   "source": [
    "x = np.linspace(0,math.pi*8,2000)"
   ]
  },
  {
   "cell_type": "code",
   "execution_count": 4,
   "id": "82fbc535-0ec1-4ec9-ac77-215f6a5680dd",
   "metadata": {},
   "outputs": [],
   "source": [
    "y = np.sin(x)"
   ]
  },
  {
   "cell_type": "code",
   "execution_count": 5,
   "id": "8e06275a-60e8-49f5-8ab9-f29cddb687b3",
   "metadata": {},
   "outputs": [
    {
     "data": {
      "text/plain": [
       "[<matplotlib.lines.Line2D at 0x1f50598ae20>]"
      ]
     },
     "execution_count": 5,
     "metadata": {},
     "output_type": "execute_result"
    },
    {
     "data": {
      "image/png": "[encoded data removed]",
      "text/plain": [
       "<Figure size 432x288 with 1 Axes>"
      ]
     },
     "metadata": {
      "needs_background": "light"
     },
     "output_type": "display_data"
    }
   ],
   "source": [
    "plt.plot(x,y)"
   ]
  },
  {
   "cell_type": "code",
   "execution_count": 6,
   "id": "ecae2d6c-e5d0-46e1-b08d-83aa2d5757e0",
   "metadata": {},
   "outputs": [],
   "source": [
    "#利用前3个波浪线来预测第4个波浪线\n",
    "#特征就是前5日的数值\n",
    "train = []\n",
    "label = []\n",
    "for i in range(len(y)-5):\n",
    "    train.append(y[i:i+5])\n",
    "    label.append(y[i+5])\n",
    "train = np.array(train)\n",
    "label = np.array(label)"
   ]
  },
  {
   "cell_type": "code",
   "execution_count": 7,
   "id": "6fcd4b6d-0cbc-40f9-8281-d366995a61f5",
   "metadata": {},
   "outputs": [
    {
     "data": {
      "text/plain": [
       "1995"
      ]
     },
     "execution_count": 7,
     "metadata": {},
     "output_type": "execute_result"
    }
   ],
   "source": [
    "len(train)"
   ]
  },
  {
   "cell_type": "code",
   "execution_count": 8,
   "id": "f01af21d-862d-498b-999d-73cc5aab308d",
   "metadata": {},
   "outputs": [],
   "source": [
    "p = 0.75\n",
    "# X_train = train[:int(len(train)*p)]\n",
    "# y_train = label[:int(len(train)*p)]\n",
    "# X_test = train[int(len(train)*p):]\n",
    "# y_test = label[int(len(train)*p):]\n",
    "\n",
    "X_train = train[:1500]\n",
    "y_train = label[:1500]\n",
    "X_test = train[1500:]\n",
    "y_test = label[1500:]"
   ]
  },
  {
   "cell_type": "code",
   "execution_count": 9,
   "id": "bb8b581b-0e01-48a1-996d-580755295791",
   "metadata": {},
   "outputs": [],
   "source": [
    "NN_net = nn.Sequential(\n",
    "    nn.Linear(5, 10),\n",
    "    nn.ReLU(),\n",
    "    nn.Linear(10, 1)\n",
    ")"
   ]
  },
  {
   "cell_type": "code",
   "execution_count": 10,
   "id": "8e0e2539-28d8-4d35-9fc5-f6b0e323385c",
   "metadata": {},
   "outputs": [],
   "source": [
    "class LSTM_net(nn.Module):\n",
    "    def __init__(self,inp_dim, mid_dim, num_layers,out_dim):\n",
    "        super().__init__()\n",
    "        self.lstm = nn.LSTM(inp_dim, mid_dim, num_layers)\n",
    "        self.out = nn.Sequential(\n",
    "                    nn.Linear(mid_dim, mid_dim),\n",
    "                    nn.Tanh(),\n",
    "                    nn.Linear(mid_dim, out_dim),\n",
    ")\n",
    "    def forward(self, x):\n",
    "\n",
    "        input,_ = self.lstm(x)\n",
    "        seq_len, batch_size, mid_dim = input.shape\n",
    "        input = input.view(seq_len * batch_size, mid_dim)\n",
    "        output = self.out(input)\n",
    "        output = output.view(seq_len, batch_size, -1)\n",
    "        return output"
   ]
  },
  {
   "cell_type": "code",
   "execution_count": 11,
   "id": "c4a15273-15a7-4e37-8a84-320206e9a450",
   "metadata": {},
   "outputs": [],
   "source": [
    "# lstm_net = nn.LSTM(inp_dim, mid_dim, num_layers)\n",
    "# input = torch.randn(seq_len, batch_size, inp_dim)\n",
    "# output == (seq_len, batch_size, mid_dim)"
   ]
  },
  {
   "cell_type": "code",
   "execution_count": 12,
   "id": "692f93f4-4c01-4d6a-9f7d-2c4f2d1cb9b4",
   "metadata": {},
   "outputs": [],
   "source": [
    "inp_dim = 5\n",
    "mid_dim = 10\n",
    "num_layers = 1\n",
    "out_dim = 1\n",
    "net = LSTM_net(inp_dim, mid_dim, num_layers,out_dim)"
   ]
  },
  {
   "cell_type": "code",
   "execution_count": 13,
   "id": "33063c6b-6aea-41bd-99d7-4fc17f67f4ea",
   "metadata": {},
   "outputs": [],
   "source": [
    "criterion=nn.MSELoss() # 使用CrossEntropyLoss损失\n",
    "optm=torch.optim.Adam(net.parameters(), lr=0.1) # Adam优化\n",
    "epochs=200 # 训练1000次"
   ]
  },
  {
   "cell_type": "code",
   "execution_count": 14,
   "id": "b3e28cab-c6b0-4e6e-879b-ef7c92e9f8dc",
   "metadata": {},
   "outputs": [],
   "source": [
    "feature_dims = 5"
   ]
  },
  {
   "cell_type": "code",
   "execution_count": 15,
   "id": "59e2c5bd-927e-40eb-8dc2-fd21c77c2e62",
   "metadata": {},
   "outputs": [],
   "source": [
    "batch_size = 5"
   ]
  },
  {
   "cell_type": "code",
   "execution_count": 16,
   "id": "7662daad-436d-4262-aa38-baa81141e7c0",
   "metadata": {},
   "outputs": [],
   "source": [
    "# train_x_tensor = train_x.reshape(-1, 5, INPUT_FEATURES_NUM) # set batch size to 5\n",
    "# train_y_tensor = train_y.reshape(-1, 5, OUTPUT_FEATURES_NUM)"
   ]
  },
  {
   "cell_type": "code",
   "execution_count": 17,
   "id": "1c21b159-df72-4ea1-bc1b-d7f18913e57c",
   "metadata": {},
   "outputs": [
    {
     "data": {
      "text/plain": [
       "(1500, 5)"
      ]
     },
     "execution_count": 17,
     "metadata": {},
     "output_type": "execute_result"
    }
   ],
   "source": [
    "X_train.shape"
   ]
  },
  {
   "cell_type": "code",
   "execution_count": 18,
   "id": "b8e296f4-372e-4ada-957f-76216868dfa7",
   "metadata": {},
   "outputs": [],
   "source": [
    "x=torch.from_numpy(X_train).float().reshape(-1,batch_size,inp_dim)\n",
    "# print(x.shape)\n",
    "y=torch.from_numpy(y_train).float().reshape(-1,batch_size,out_dim)"
   ]
  },
  {
   "cell_type": "code",
   "execution_count": 19,
   "id": "fbfa2790-0a5c-4e19-a27c-1cbffacbcc77",
   "metadata": {},
   "outputs": [
    {
     "data": {
      "text/plain": [
       "(495,)"
      ]
     },
     "execution_count": 19,
     "metadata": {},
     "output_type": "execute_result"
    }
   ],
   "source": [
    "y_test.shape"
   ]
  },
  {
   "cell_type": "code",
   "execution_count": 20,
   "id": "8c2c3f32-068d-4918-bc80-cea0c59dca27",
   "metadata": {},
   "outputs": [
    {
     "name": "stdout",
     "output_type": "stream",
     "text": [
      "Epoch:1,Loss:0.5102,Test loss：0.32\n",
      "Epoch:2,Loss:0.3185,Test loss：0.08\n",
      "Epoch:3,Loss:0.0937,Test loss：0.15\n",
      "Epoch:4,Loss:0.1814,Test loss：0.05\n",
      "Epoch:5,Loss:0.0647,Test loss：0.08\n",
      "Epoch:6,Loss:0.0807,Test loss：0.10\n",
      "Epoch:7,Loss:0.1031,Test loss：0.08\n",
      "Epoch:8,Loss:0.0771,Test loss：0.05\n",
      "Epoch:9,Loss:0.0489,Test loss：0.03\n",
      "Epoch:10,Loss:0.0294,Test loss：0.03\n",
      "Epoch:11,Loss:0.0330,Test loss：0.04\n",
      "Epoch:12,Loss:0.0388,Test loss：0.01\n",
      "Epoch:13,Loss:0.0142,Test loss：0.01\n",
      "Epoch:14,Loss:0.0103,Test loss：0.02\n",
      "Epoch:15,Loss:0.0198,Test loss：0.01\n",
      "Epoch:16,Loss:0.0111,Test loss：0.01\n",
      "Epoch:17,Loss:0.0073,Test loss：0.01\n",
      "Epoch:18,Loss:0.0114,Test loss：0.02\n",
      "Epoch:19,Loss:0.0158,Test loss：0.01\n",
      "Epoch:20,Loss:0.0123,Test loss：0.01\n",
      "Epoch:21,Loss:0.0068,Test loss：0.01\n",
      "Epoch:22,Loss:0.0064,Test loss：0.01\n",
      "Epoch:23,Loss:0.0081,Test loss：0.01\n",
      "Epoch:24,Loss:0.0069,Test loss：0.00\n",
      "Epoch:25,Loss:0.0042,Test loss：0.00\n",
      "Epoch:26,Loss:0.0035,Test loss：0.00\n",
      "Epoch:27,Loss:0.0048,Test loss：0.01\n",
      "Epoch:28,Loss:0.0056,Test loss：0.00\n",
      "Epoch:29,Loss:0.0048,Test loss：0.00\n",
      "Epoch:30,Loss:0.0031,Test loss：0.00\n",
      "Epoch:31,Loss:0.0029,Test loss：0.00\n",
      "Epoch:32,Loss:0.0041,Test loss：0.00\n",
      "Epoch:33,Loss:0.0026,Test loss：0.00\n",
      "Epoch:34,Loss:0.0012,Test loss：0.00\n",
      "Epoch:35,Loss:0.0021,Test loss：0.00\n",
      "Epoch:36,Loss:0.0028,Test loss：0.00\n",
      "Epoch:37,Loss:0.0020,Test loss：0.00\n",
      "Epoch:38,Loss:0.0014,Test loss：0.00\n",
      "Epoch:39,Loss:0.0019,Test loss：0.00\n",
      "Epoch:40,Loss:0.0021,Test loss：0.00\n",
      "Epoch:41,Loss:0.0013,Test loss：0.00\n",
      "Epoch:42,Loss:0.0009,Test loss：0.00\n",
      "Epoch:43,Loss:0.0011,Test loss：0.00\n",
      "Epoch:44,Loss:0.0013,Test loss：0.00\n",
      "Epoch:45,Loss:0.0008,Test loss：0.00\n",
      "Epoch:46,Loss:0.0006,Test loss：0.00\n",
      "Epoch:47,Loss:0.0010,Test loss：0.00\n",
      "Epoch:48,Loss:0.0010,Test loss：0.00\n",
      "Epoch:49,Loss:0.0006,Test loss：0.00\n",
      "Epoch:50,Loss:0.0006,Test loss：0.00\n",
      "Epoch:51,Loss:0.0008,Test loss：0.00\n",
      "Epoch:52,Loss:0.0006,Test loss：0.00\n",
      "Epoch:53,Loss:0.0004,Test loss：0.00\n",
      "Epoch:54,Loss:0.0006,Test loss：0.00\n",
      "Epoch:55,Loss:0.0006,Test loss：0.00\n",
      "Epoch:56,Loss:0.0004,Test loss：0.00\n",
      "Epoch:57,Loss:0.0004,Test loss：0.00\n",
      "Epoch:58,Loss:0.0005,Test loss：0.00\n",
      "Epoch:59,Loss:0.0004,Test loss：0.00\n",
      "Epoch:60,Loss:0.0003,Test loss：0.00\n",
      "Epoch:61,Loss:0.0004,Test loss：0.00\n",
      "Epoch:62,Loss:0.0004,Test loss：0.00\n",
      "Epoch:63,Loss:0.0003,Test loss：0.00\n",
      "Epoch:64,Loss:0.0003,Test loss：0.00\n",
      "Epoch:65,Loss:0.0003,Test loss：0.00\n",
      "Epoch:66,Loss:0.0003,Test loss：0.00\n",
      "Epoch:67,Loss:0.0002,Test loss：0.00\n",
      "Epoch:68,Loss:0.0003,Test loss：0.00\n",
      "Epoch:69,Loss:0.0003,Test loss：0.00\n",
      "Epoch:70,Loss:0.0002,Test loss：0.00\n",
      "Epoch:71,Loss:0.0002,Test loss：0.00\n",
      "Epoch:72,Loss:0.0002,Test loss：0.00\n",
      "Epoch:73,Loss:0.0002,Test loss：0.00\n",
      "Epoch:74,Loss:0.0002,Test loss：0.00\n",
      "Epoch:75,Loss:0.0002,Test loss：0.00\n",
      "Epoch:76,Loss:0.0002,Test loss：0.00\n",
      "Epoch:77,Loss:0.0002,Test loss：0.00\n",
      "Epoch:78,Loss:0.0002,Test loss：0.00\n",
      "Epoch:79,Loss:0.0002,Test loss：0.00\n",
      "Epoch:80,Loss:0.0002,Test loss：0.00\n",
      "Epoch:81,Loss:0.0002,Test loss：0.00\n",
      "Epoch:82,Loss:0.0001,Test loss：0.00\n",
      "Epoch:83,Loss:0.0001,Test loss：0.00\n",
      "Epoch:84,Loss:0.0001,Test loss：0.00\n",
      "Epoch:85,Loss:0.0001,Test loss：0.00\n",
      "Epoch:86,Loss:0.0001,Test loss：0.00\n",
      "Epoch:87,Loss:0.0001,Test loss：0.00\n",
      "Epoch:88,Loss:0.0001,Test loss：0.00\n",
      "Epoch:89,Loss:0.0001,Test loss：0.00\n",
      "Epoch:90,Loss:0.0001,Test loss：0.00\n",
      "Epoch:91,Loss:0.0001,Test loss：0.00\n",
      "Epoch:92,Loss:0.0001,Test loss：0.00\n",
      "Epoch:93,Loss:0.0001,Test loss：0.00\n",
      "Epoch:94,Loss:0.0001,Test loss：0.00\n",
      "Epoch:95,Loss:0.0001,Test loss：0.00\n",
      "Epoch:96,Loss:0.0001,Test loss：0.00\n",
      "Epoch:97,Loss:0.0001,Test loss：0.00\n",
      "Epoch:98,Loss:0.0001,Test loss：0.00\n",
      "Epoch:99,Loss:0.0001,Test loss：0.00\n",
      "Epoch:100,Loss:0.0001,Test loss：0.00\n",
      "Epoch:101,Loss:0.0001,Test loss：0.00\n",
      "Epoch:102,Loss:0.0001,Test loss：0.00\n",
      "Epoch:103,Loss:0.0001,Test loss：0.00\n",
      "Epoch:104,Loss:0.0001,Test loss：0.00\n",
      "Epoch:105,Loss:0.0001,Test loss：0.00\n",
      "Epoch:106,Loss:0.0001,Test loss：0.00\n",
      "Epoch:107,Loss:0.0001,Test loss：0.00\n",
      "Epoch:108,Loss:0.0001,Test loss：0.00\n",
      "Epoch:109,Loss:0.0001,Test loss：0.00\n",
      "Epoch:110,Loss:0.0001,Test loss：0.00\n",
      "Epoch:111,Loss:0.0001,Test loss：0.00\n",
      "Epoch:112,Loss:0.0001,Test loss：0.00\n",
      "Epoch:113,Loss:0.0001,Test loss：0.00\n",
      "Epoch:114,Loss:0.0001,Test loss：0.00\n",
      "Epoch:115,Loss:0.0001,Test loss：0.00\n",
      "Epoch:116,Loss:0.0001,Test loss：0.00\n",
      "Epoch:117,Loss:0.0001,Test loss：0.00\n",
      "Epoch:118,Loss:0.0001,Test loss：0.00\n",
      "Epoch:119,Loss:0.0001,Test loss：0.00\n",
      "Epoch:120,Loss:0.0001,Test loss：0.00\n",
      "Epoch:121,Loss:0.0001,Test loss：0.00\n",
      "Epoch:122,Loss:0.0001,Test loss：0.00\n",
      "Epoch:123,Loss:0.0001,Test loss：0.00\n",
      "Epoch:124,Loss:0.0001,Test loss：0.00\n",
      "Epoch:125,Loss:0.0001,Test loss：0.00\n",
      "Epoch:126,Loss:0.0001,Test loss：0.00\n",
      "Epoch:127,Loss:0.0001,Test loss：0.00\n",
      "Epoch:128,Loss:0.0001,Test loss：0.00\n",
      "Epoch:129,Loss:0.0001,Test loss：0.00\n",
      "Epoch:130,Loss:0.0001,Test loss：0.00\n",
      "Epoch:131,Loss:0.0000,Test loss：0.00\n",
      "Epoch:132,Loss:0.0000,Test loss：0.00\n",
      "Epoch:133,Loss:0.0000,Test loss：0.00\n",
      "Epoch:134,Loss:0.0000,Test loss：0.00\n",
      "Epoch:135,Loss:0.0000,Test loss：0.00\n",
      "Epoch:136,Loss:0.0000,Test loss：0.00\n",
      "Epoch:137,Loss:0.0000,Test loss：0.00\n",
      "Epoch:138,Loss:0.0000,Test loss：0.00\n",
      "Epoch:139,Loss:0.0000,Test loss：0.00\n",
      "Epoch:140,Loss:0.0000,Test loss：0.00\n",
      "Epoch:141,Loss:0.0000,Test loss：0.00\n",
      "Epoch:142,Loss:0.0000,Test loss：0.00\n",
      "Epoch:143,Loss:0.0000,Test loss：0.00\n",
      "Epoch:144,Loss:0.0000,Test loss：0.00\n",
      "Epoch:145,Loss:0.0000,Test loss：0.00\n",
      "Epoch:146,Loss:0.0000,Test loss：0.00\n",
      "Epoch:147,Loss:0.0000,Test loss：0.00\n",
      "Epoch:148,Loss:0.0000,Test loss：0.00\n",
      "Epoch:149,Loss:0.0000,Test loss：0.00\n",
      "Epoch:150,Loss:0.0000,Test loss：0.00\n",
      "Epoch:151,Loss:0.0000,Test loss：0.00\n",
      "Epoch:152,Loss:0.0000,Test loss：0.00\n",
      "Epoch:153,Loss:0.0000,Test loss：0.00\n",
      "Epoch:154,Loss:0.0000,Test loss：0.00\n",
      "Epoch:155,Loss:0.0000,Test loss：0.00\n",
      "Epoch:156,Loss:0.0000,Test loss：0.00\n",
      "Epoch:157,Loss:0.0000,Test loss：0.00\n",
      "Epoch:158,Loss:0.0000,Test loss：0.00\n",
      "Epoch:159,Loss:0.0000,Test loss：0.00\n",
      "Epoch:160,Loss:0.0000,Test loss：0.00\n",
      "Epoch:161,Loss:0.0000,Test loss：0.00\n",
      "Epoch:162,Loss:0.0000,Test loss：0.00\n",
      "Epoch:163,Loss:0.0000,Test loss：0.00\n",
      "Epoch:164,Loss:0.0000,Test loss：0.00\n",
      "Epoch:165,Loss:0.0000,Test loss：0.00\n",
      "Epoch:166,Loss:0.0000,Test loss：0.00\n",
      "Epoch:167,Loss:0.0000,Test loss：0.00\n",
      "Epoch:168,Loss:0.0000,Test loss：0.00\n",
      "Epoch:169,Loss:0.0000,Test loss：0.00\n",
      "Epoch:170,Loss:0.0000,Test loss：0.00\n",
      "Epoch:171,Loss:0.0000,Test loss：0.00\n",
      "Epoch:172,Loss:0.0000,Test loss：0.00\n",
      "Epoch:173,Loss:0.0000,Test loss：0.00\n",
      "Epoch:174,Loss:0.0000,Test loss：0.00\n",
      "Epoch:175,Loss:0.0000,Test loss：0.00\n",
      "Epoch:176,Loss:0.0000,Test loss：0.00\n",
      "Epoch:177,Loss:0.0000,Test loss：0.00\n",
      "Epoch:178,Loss:0.0000,Test loss：0.00\n",
      "Epoch:179,Loss:0.0000,Test loss：0.00\n",
      "Epoch:180,Loss:0.0000,Test loss：0.00\n",
      "Epoch:181,Loss:0.0000,Test loss：0.00\n",
      "Epoch:182,Loss:0.0000,Test loss：0.00\n",
      "Epoch:183,Loss:0.0000,Test loss：0.00\n",
      "Epoch:184,Loss:0.0000,Test loss：0.00\n",
      "Epoch:185,Loss:0.0000,Test loss：0.00\n",
      "Epoch:186,Loss:0.0000,Test loss：0.00\n",
      "Epoch:187,Loss:0.0000,Test loss：0.00\n",
      "Epoch:188,Loss:0.0000,Test loss：0.00\n",
      "Epoch:189,Loss:0.0000,Test loss：0.00\n",
      "Epoch:190,Loss:0.0000,Test loss：0.00\n",
      "Epoch:191,Loss:0.0000,Test loss：0.00\n",
      "Epoch:192,Loss:0.0000,Test loss：0.00\n",
      "Epoch:193,Loss:0.0000,Test loss：0.00\n",
      "Epoch:194,Loss:0.0000,Test loss：0.00\n",
      "Epoch:195,Loss:0.0000,Test loss：0.00\n",
      "Epoch:196,Loss:0.0000,Test loss：0.00\n",
      "Epoch:197,Loss:0.0000,Test loss：0.00\n",
      "Epoch:198,Loss:0.0000,Test loss：0.00\n",
      "Epoch:199,Loss:0.0000,Test loss：0.00\n",
      "Epoch:200,Loss:0.0000,Test loss：0.00\n"
     ]
    }
   ],
   "source": [
    "\n",
    "for i in range(epochs):\n",
    "    # 指定模型为训练模式，计算梯度\n",
    "    net.train()\n",
    "    # 输入值都需要转化成torch的Tensor\n",
    "    \n",
    "    y_hat=net(x)\n",
    "    loss=criterion(y_hat,y) # 计算损失\n",
    "    optm.zero_grad() # 前一步的损失清零\n",
    "    loss.backward() # 反向传播\n",
    "    optm.step() # 优化\n",
    "    if (i+1)%1 ==0 : # 这里我们每100次输出相关的信息\n",
    "        # 指定模型为计算模式\n",
    "        net.eval()\n",
    "        test_in=torch.from_numpy(X_test).float()\n",
    "        test_in = test_in.reshape(-1,batch_size,inp_dim)\n",
    "        test_l=torch.from_numpy(y_test).float()\n",
    "        test_l = test_l.reshape(-1,batch_size,out_dim)\n",
    "        test_out=net(test_in)\n",
    "#         print(\"test_out:\", test_out.shape)\n",
    "#         print(\"test_l:\", test_l.shape)\n",
    "        \n",
    "        #print(\"test_out:\",test_out,test_out.shape)\n",
    "        #print(test_out.max(-1)[0])\n",
    "        # 使用我们的测试函数计算准确率\n",
    "        accu=criterion(test_out,test_l)\n",
    "        print(\"Epoch:{},Loss:{:.4f},Test loss：{:.2f}\".format(i+1,loss.item(),accu))"
   ]
  },
  {
   "cell_type": "code",
   "execution_count": 24,
   "id": "3d636e74-407e-4bba-8c85-b273a79a9fc4",
   "metadata": {},
   "outputs": [],
   "source": [
    "test_l = test_l.reshape(-1,out_dim)\n",
    "test_out = test_out.reshape(-1,out_dim)"
   ]
  },
  {
   "cell_type": "code",
   "execution_count": 25,
   "id": "b7e06c16-c218-49b0-87d7-70e43cb47ca7",
   "metadata": {},
   "outputs": [
    {
     "data": {
      "text/plain": [
       "torch.Size([495, 1])"
      ]
     },
     "execution_count": 25,
     "metadata": {},
     "output_type": "execute_result"
    }
   ],
   "source": [
    "test_out.shape"
   ]
  },
  {
   "cell_type": "code",
   "execution_count": 26,
   "id": "2549162d-4f0f-437e-adc5-934e64e4117e",
   "metadata": {},
   "outputs": [
    {
     "data": {
      "text/plain": [
       "<matplotlib.collections.PathCollection at 0x1f5077a7d30>"
      ]
     },
     "execution_count": 26,
     "metadata": {},
     "output_type": "execute_result"
    },
    {
     "data": {
      "image/png": "[encoded data removed]",
      "text/plain": [
       "<Figure size 432x288 with 1 Axes>"
      ]
     },
     "metadata": {
      "needs_background": "light"
     },
     "output_type": "display_data"
    }
   ],
   "source": [
    "plt.plot(range(len(test_l)),test_l,\"r\")\n",
    "plt.scatter(range(len(test_out.detach())),test_out.detach(),c=\"b\")"
   ]
  },
  {
   "cell_type": "code",
   "execution_count": 27,
   "id": "f27c8fb1-1a78-4600-ad47-4a7ab6ba4f25",
   "metadata": {},
   "outputs": [
    {
     "data": {
      "text/plain": [
       "[<matplotlib.lines.Line2D at 0x1f50781a9a0>]"
      ]
     },
     "execution_count": 27,
     "metadata": {},
     "output_type": "execute_result"
    },
    {
     "data": {
      "image/png": "[encoded data removed]",
      "text/plain": [
       "<Figure size 432x288 with 1 Axes>"
      ]
     },
     "metadata": {
      "needs_background": "light"
     },
     "output_type": "display_data"
    }
   ],
   "source": [
    "plt.plot(range(len(test_l)),test_l,\"r\")\n",
    "plt.plot(range(len(test_out.detach())),test_out.detach(),c=\"b\")"
   ]
  },
  {
   "cell_type": "code",
   "execution_count": null,
   "id": "abcf1a37-928a-4ef1-91c5-1a6a76656013",
   "metadata": {},
   "outputs": [],
   "source": []
  },
  {
   "cell_type": "code",
   "execution_count": null,
   "id": "5d37f9a2-1e93-4496-9dcc-64a9762e5056",
   "metadata": {},
   "outputs": [],
   "source": []
  },
  {
   "cell_type": "code",
   "execution_count": null,
   "id": "e1c6c616-af20-44dd-8164-7a9eebb8958f",
   "metadata": {},
   "outputs": [],
   "source": []
  }
 ],
 "metadata": {
  "kernelspec": {
   "display_name": "Python 3",
   "language": "python",
   "name": "python3"
  },
  "language_info": {
   "codemirror_mode": {
    "name": "ipython",
    "version": 3
   },
   "file_extension": ".py",
   "mimetype": "text/x-python",
   "name": "python",
   "nbconvert_exporter": "python",
   "pygments_lexer": "ipython3",
   "version": "3.8.8"
  }
 },
 "nbformat": 4,
 "nbformat_minor": 5
}
