{
 "cells": [
  {
   "cell_type": "code",
   "execution_count": 225,
   "id": "124cc216-05d6-4622-988c-bdc91c963cd6",
   "metadata": {},
   "outputs": [],
   "source": [
    "# 我们来实现拟合y = x*x，前0.75比例数据用于训练，剩下用于测试，适当加入噪声\n",
    "import torch\n",
    "import torch.nn as nn\n",
    "import numpy as np\n",
    "import pandas as pd\n",
    "import math\n",
    "import matplotlib.pyplot as plt"
   ]
  },
  {
   "cell_type": "code",
   "execution_count": 226,
   "id": "63dc8564-bc85-44c3-afdb-bab2d8a0220c",
   "metadata": {},
   "outputs": [],
   "source": [
    "#x = np.linspace(0,math.pi*8,2000)\n",
    "\n",
    "x = np.linspace(-5, 5, 100)"
   ]
  },
  {
   "cell_type": "code",
   "execution_count": 227,
   "id": "bca3f5b1-ba35-4b53-b7fb-81faf5b6b417",
   "metadata": {},
   "outputs": [],
   "source": [
    "noise = np.random.uniform(-5,5,len(x))"
   ]
  },
  {
   "cell_type": "code",
   "execution_count": 228,
   "id": "0fb9bc0f-69ef-4e74-99ec-fd47d7587f01",
   "metadata": {},
   "outputs": [
    {
     "data": {
      "text/plain": [
       "[<matplotlib.lines.Line2D at 0x230a15b47f0>]"
      ]
     },
     "execution_count": 228,
     "metadata": {},
     "output_type": "execute_result"
    },
    {
     "data": {
      "image/png": "[encoded data removed]",
      "text/plain": [
       "<Figure size 432x288 with 1 Axes>"
      ]
     },
     "metadata": {
      "needs_background": "light"
     },
     "output_type": "display_data"
    }
   ],
   "source": [
    "#y = np.sin(x)\n",
    "y = pow(x,2)+0.2*noise\n",
    "plt.plot(x,y)"
   ]
  },
  {
   "cell_type": "code",
   "execution_count": null,
   "id": "9c4d0acd-b420-4362-b743-0c37616e3460",
   "metadata": {},
   "outputs": [],
   "source": []
  },
  {
   "cell_type": "code",
   "execution_count": 229,
   "id": "0eb09484-b954-403f-98ee-00393cb29f64",
   "metadata": {},
   "outputs": [],
   "source": [
    "#利用前3个波浪线来预测第4个波浪线\n",
    "#特征就是前5日的数值\n",
    "# train = []\n",
    "# label = []\n",
    "# for i in range(len(y)-5):\n",
    "#     train.append(y[i:i+5])\n",
    "#     label.append(y[i+5])\n",
    "# train = np.array(train)\n",
    "# label = np.array(label)"
   ]
  },
  {
   "cell_type": "code",
   "execution_count": 230,
   "id": "e8cd5178-0b11-4490-a487-1a5369723b05",
   "metadata": {},
   "outputs": [],
   "source": [
    "train = x \n",
    "label = y"
   ]
  },
  {
   "cell_type": "code",
   "execution_count": 231,
   "id": "ce19298f-46de-4ad7-90e6-ecbba923ee9e",
   "metadata": {},
   "outputs": [],
   "source": [
    "p = 0.75\n",
    "X_train = train[:int(len(train)*p)]\n",
    "y_train = label[:int(len(train)*p)]\n",
    "X_test = train[int(len(train)*p):]\n",
    "y_test = label[int(len(train)*p):]"
   ]
  },
  {
   "cell_type": "code",
   "execution_count": 232,
   "id": "7a7deeaa-461b-472f-b7fc-3621ec62a104",
   "metadata": {},
   "outputs": [],
   "source": [
    "# plt.plot(range(len(y_train)), y_train)"
   ]
  },
  {
   "cell_type": "code",
   "execution_count": 233,
   "id": "dfd30cc9-4d51-4a86-8cd7-5cd0f5f81866",
   "metadata": {},
   "outputs": [],
   "source": [
    "class Net_R(nn.Module):\n",
    "    def __init__(self):\n",
    "        super(Net_R, self).__init__()\n",
    "        self.hidden = nn.Linear(1, 10)\n",
    "        self.pre = nn.Linear(10, 1)\n",
    " \n",
    "    def forward(self, x):\n",
    "        x = self.hidden(x)\n",
    "        x = torch.relu(x)\n",
    "        x = self.pre(x)\n",
    "        return x"
   ]
  },
  {
   "cell_type": "code",
   "execution_count": 234,
   "id": "27c3e8c9-439f-443b-844f-0632e1adc449",
   "metadata": {},
   "outputs": [],
   "source": [
    "NN_net = nn.Sequential(\n",
    "    nn.Linear(1, 10),\n",
    "    nn.ReLU(),\n",
    "    nn.Linear(10, 1)\n",
    ")"
   ]
  },
  {
   "cell_type": "code",
   "execution_count": 235,
   "id": "24718511-8f23-4be7-9ca7-1f6c389de8fc",
   "metadata": {},
   "outputs": [],
   "source": [
    "# net = Net_R()"
   ]
  },
  {
   "cell_type": "code",
   "execution_count": 236,
   "id": "bb749cf0-a4f5-4f0d-b4a4-4c312d6928cd",
   "metadata": {},
   "outputs": [],
   "source": [
    "net = NN_net"
   ]
  },
  {
   "cell_type": "code",
   "execution_count": 237,
   "id": "42ec2491-7a27-4ce6-b8bd-fc59884e29d0",
   "metadata": {},
   "outputs": [],
   "source": [
    "criterion=nn.MSELoss() # 使用CrossEntropyLoss损失\n",
    "optm=torch.optim.Adam(net.parameters(), lr=0.1) # Adam优化\n",
    "epochs=200 # 训练1000次"
   ]
  },
  {
   "cell_type": "code",
   "execution_count": 238,
   "id": "02c6a9bf-aa3d-44c4-96ba-03ee485afaf0",
   "metadata": {},
   "outputs": [],
   "source": [
    "feature_dims = 1"
   ]
  },
  {
   "cell_type": "code",
   "execution_count": 239,
   "id": "906c55bf-a761-4f69-afcf-0894c1185a37",
   "metadata": {},
   "outputs": [],
   "source": [
    "x=torch.from_numpy(X_train).float().reshape(-1,feature_dims)\n",
    "# x =x.reshape(-1,1) #在只有一个特征维度的时候，必须加上这句话，否则会报错\n",
    "# print(x.shape)\n",
    "y=torch.from_numpy(y_train).float().reshape(-1,1)"
   ]
  },
  {
   "cell_type": "code",
   "execution_count": 240,
   "id": "1c8ca2a9-d331-4ca3-8184-e7c93495dbdd",
   "metadata": {},
   "outputs": [
    {
     "name": "stdout",
     "output_type": "stream",
     "text": [
      "Epoch:1,Loss:84.0262,Test loss：213.62\n",
      "Epoch:2,Loss:63.1882,Test loss：182.45\n",
      "Epoch:3,Loss:43.9508,Test loss：155.06\n",
      "Epoch:4,Loss:27.1151,Test loss：129.24\n",
      "Epoch:5,Loss:14.8150,Test loss：105.87\n",
      "Epoch:6,Loss:10.3255,Test loss：86.91\n",
      "Epoch:7,Loss:14.6343,Test loss：73.82\n",
      "Epoch:8,Loss:21.7492,Test loss：66.47\n",
      "Epoch:9,Loss:24.2728,Test loss：64.19\n",
      "Epoch:10,Loss:21.5226,Test loss：65.76\n",
      "Epoch:11,Loss:16.3981,Test loss：69.91\n",
      "Epoch:12,Loss:11.7035,Test loss：75.40\n",
      "Epoch:13,Loss:8.9403,Test loss：80.80\n",
      "Epoch:14,Loss:8.2724,Test loss：84.73\n",
      "Epoch:15,Loss:8.8206,Test loss：86.81\n",
      "Epoch:16,Loss:9.7004,Test loss：87.19\n",
      "Epoch:17,Loss:10.2033,Test loss：85.77\n",
      "Epoch:18,Loss:9.9765,Test loss：82.41\n",
      "Epoch:19,Loss:9.0596,Test loss：77.17\n",
      "Epoch:20,Loss:7.7795,Test loss：70.47\n",
      "Epoch:21,Loss:6.6265,Test loss：62.92\n",
      "Epoch:22,Loss:6.0754,Test loss：55.31\n",
      "Epoch:23,Loss:6.2398,Test loss：48.36\n",
      "Epoch:24,Loss:6.6351,Test loss：42.64\n",
      "Epoch:25,Loss:6.6102,Test loss：38.53\n",
      "Epoch:26,Loss:6.0380,Test loss：36.13\n",
      "Epoch:27,Loss:5.2537,Test loss：35.28\n",
      "Epoch:28,Loss:4.6462,Test loss：35.69\n",
      "Epoch:29,Loss:4.3932,Test loss：36.99\n",
      "Epoch:30,Loss:4.4076,Test loss：38.70\n",
      "Epoch:31,Loss:4.4684,Test loss：40.36\n",
      "Epoch:32,Loss:4.3932,Test loss：41.51\n",
      "Epoch:33,Loss:4.1227,Test loss：41.78\n",
      "Epoch:34,Loss:3.7282,Test loss：41.03\n",
      "Epoch:35,Loss:3.3482,Test loss：39.32\n",
      "Epoch:36,Loss:3.1062,Test loss：36.86\n",
      "Epoch:37,Loss:3.0321,Test loss：34.01\n",
      "Epoch:38,Loss:3.0395,Test loss：31.13\n",
      "Epoch:39,Loss:2.9930,Test loss：28.57\n",
      "Epoch:40,Loss:2.8239,Test loss：26.55\n",
      "Epoch:41,Loss:2.5805,Test loss：25.20\n",
      "Epoch:42,Loss:2.3655,Test loss：24.55\n",
      "Epoch:43,Loss:2.2472,Test loss：24.50\n",
      "Epoch:44,Loss:2.2142,Test loss：24.92\n",
      "Epoch:45,Loss:2.1991,Test loss：25.60\n",
      "Epoch:46,Loss:2.1394,Test loss：26.27\n",
      "Epoch:47,Loss:2.0196,Test loss：26.71\n",
      "Epoch:48,Loss:1.8753,Test loss：26.77\n",
      "Epoch:49,Loss:1.7608,Test loss：26.39\n",
      "Epoch:50,Loss:1.7047,Test loss：25.63\n",
      "Epoch:51,Loss:1.6860,Test loss：24.61\n",
      "Epoch:52,Loss:1.6575,Test loss：23.51\n",
      "Epoch:53,Loss:1.5908,Test loss：22.52\n",
      "Epoch:54,Loss:1.5005,Test loss：21.76\n",
      "Epoch:55,Loss:1.4251,Test loss：21.32\n",
      "Epoch:56,Loss:1.3872,Test loss：21.21\n",
      "Epoch:57,Loss:1.3729,Test loss：21.39\n",
      "Epoch:58,Loss:1.3531,Test loss：21.83\n",
      "Epoch:59,Loss:1.3087,Test loss：22.40\n",
      "Epoch:60,Loss:1.2495,Test loss：22.92\n",
      "Epoch:61,Loss:1.1995,Test loss：23.28\n",
      "Epoch:62,Loss:1.1726,Test loss：23.39\n",
      "Epoch:63,Loss:1.1585,Test loss：23.23\n",
      "Epoch:64,Loss:1.1356,Test loss：22.82\n",
      "Epoch:65,Loss:1.0971,Test loss：22.25\n",
      "Epoch:66,Loss:1.0554,Test loss：21.67\n",
      "Epoch:67,Loss:1.0260,Test loss：21.18\n",
      "Epoch:68,Loss:1.0104,Test loss：20.80\n",
      "Epoch:69,Loss:0.9965,Test loss：20.60\n",
      "Epoch:70,Loss:0.9736,Test loss：20.58\n",
      "Epoch:71,Loss:0.9430,Test loss：20.73\n",
      "Epoch:72,Loss:0.9168,Test loss：20.99\n",
      "Epoch:73,Loss:0.9006,Test loss：21.27\n",
      "Epoch:74,Loss:0.8877,Test loss：21.49\n",
      "Epoch:75,Loss:0.8691,Test loss：21.57\n",
      "Epoch:76,Loss:0.8449,Test loss：21.48\n",
      "Epoch:77,Loss:0.8217,Test loss：21.29\n",
      "Epoch:78,Loss:0.8061,Test loss：21.04\n",
      "Epoch:79,Loss:0.7935,Test loss：20.76\n",
      "Epoch:80,Loss:0.7781,Test loss：20.49\n",
      "Epoch:81,Loss:0.7588,Test loss：20.32\n",
      "Epoch:82,Loss:0.7407,Test loss：20.28\n",
      "Epoch:83,Loss:0.7274,Test loss：20.31\n",
      "Epoch:84,Loss:0.7166,Test loss：20.39\n",
      "Epoch:85,Loss:0.7038,Test loss：20.45\n",
      "Epoch:86,Loss:0.6884,Test loss：20.45\n",
      "Epoch:87,Loss:0.6746,Test loss：20.34\n",
      "Epoch:88,Loss:0.6642,Test loss：20.14\n",
      "Epoch:89,Loss:0.6549,Test loss：19.81\n",
      "Epoch:90,Loss:0.6440,Test loss：19.41\n",
      "Epoch:91,Loss:0.6317,Test loss：19.02\n",
      "Epoch:92,Loss:0.6206,Test loss：18.71\n",
      "Epoch:93,Loss:0.6113,Test loss：18.52\n",
      "Epoch:94,Loss:0.6019,Test loss：18.45\n",
      "Epoch:95,Loss:0.5916,Test loss：18.46\n",
      "Epoch:96,Loss:0.5823,Test loss：18.49\n",
      "Epoch:97,Loss:0.5745,Test loss：18.50\n",
      "Epoch:98,Loss:0.5668,Test loss：18.42\n",
      "Epoch:99,Loss:0.5585,Test loss：18.23\n",
      "Epoch:100,Loss:0.5500,Test loss：17.95\n",
      "Epoch:101,Loss:0.5421,Test loss：17.62\n",
      "Epoch:102,Loss:0.5348,Test loss：17.27\n",
      "Epoch:103,Loss:0.5275,Test loss：16.96\n",
      "Epoch:104,Loss:0.5200,Test loss：16.72\n",
      "Epoch:105,Loss:0.5130,Test loss：16.55\n",
      "Epoch:106,Loss:0.5066,Test loss：16.43\n",
      "Epoch:107,Loss:0.5003,Test loss：16.34\n",
      "Epoch:108,Loss:0.4942,Test loss：16.22\n",
      "Epoch:109,Loss:0.4884,Test loss：16.06\n",
      "Epoch:110,Loss:0.4832,Test loss：15.84\n",
      "Epoch:111,Loss:0.4783,Test loss：15.58\n",
      "Epoch:112,Loss:0.4736,Test loss：15.29\n",
      "Epoch:113,Loss:0.4691,Test loss：15.01\n",
      "Epoch:114,Loss:0.4650,Test loss：14.76\n",
      "Epoch:115,Loss:0.4611,Test loss：14.56\n",
      "Epoch:116,Loss:0.4572,Test loss：14.40\n",
      "Epoch:117,Loss:0.4534,Test loss：14.26\n",
      "Epoch:118,Loss:0.4498,Test loss：14.13\n",
      "Epoch:119,Loss:0.4463,Test loss：13.97\n",
      "Epoch:120,Loss:0.4429,Test loss：13.79\n",
      "Epoch:121,Loss:0.4395,Test loss：13.56\n",
      "Epoch:122,Loss:0.4362,Test loss：13.32\n",
      "Epoch:123,Loss:0.4331,Test loss：13.08\n",
      "Epoch:124,Loss:0.4301,Test loss：12.86\n",
      "Epoch:125,Loss:0.4271,Test loss：12.67\n",
      "Epoch:126,Loss:0.4236,Test loss：12.50\n",
      "Epoch:127,Loss:0.4202,Test loss：12.35\n",
      "Epoch:128,Loss:0.4168,Test loss：12.20\n",
      "Epoch:129,Loss:0.4137,Test loss：12.03\n",
      "Epoch:130,Loss:0.4106,Test loss：11.83\n",
      "Epoch:131,Loss:0.4075,Test loss：11.62\n",
      "Epoch:132,Loss:0.4047,Test loss：11.40\n",
      "Epoch:133,Loss:0.4020,Test loss：11.19\n",
      "Epoch:134,Loss:0.3997,Test loss：11.00\n",
      "Epoch:135,Loss:0.3974,Test loss：10.82\n",
      "Epoch:136,Loss:0.3952,Test loss：10.66\n",
      "Epoch:137,Loss:0.3929,Test loss：10.49\n",
      "Epoch:138,Loss:0.3907,Test loss：10.32\n",
      "Epoch:139,Loss:0.3885,Test loss：10.14\n",
      "Epoch:140,Loss:0.3863,Test loss：9.94\n",
      "Epoch:141,Loss:0.3841,Test loss：9.75\n",
      "Epoch:142,Loss:0.3820,Test loss：9.56\n",
      "Epoch:143,Loss:0.3800,Test loss：9.38\n",
      "Epoch:144,Loss:0.3780,Test loss：9.22\n",
      "Epoch:145,Loss:0.3762,Test loss：8.98\n",
      "Epoch:146,Loss:0.3744,Test loss：8.80\n",
      "Epoch:147,Loss:0.3727,Test loss：8.68\n",
      "Epoch:148,Loss:0.3711,Test loss：8.60\n",
      "Epoch:149,Loss:0.3696,Test loss：8.44\n",
      "Epoch:150,Loss:0.3681,Test loss：8.22\n",
      "Epoch:151,Loss:0.3666,Test loss：8.06\n",
      "Epoch:152,Loss:0.3652,Test loss：7.97\n",
      "Epoch:153,Loss:0.3637,Test loss：7.93\n",
      "Epoch:154,Loss:0.3624,Test loss：7.80\n",
      "Epoch:155,Loss:0.3611,Test loss：7.61\n",
      "Epoch:156,Loss:0.3597,Test loss：7.47\n",
      "Epoch:157,Loss:0.3585,Test loss：7.38\n",
      "Epoch:158,Loss:0.3573,Test loss：7.27\n",
      "Epoch:159,Loss:0.3562,Test loss：7.13\n",
      "Epoch:160,Loss:0.3551,Test loss：7.06\n",
      "Epoch:161,Loss:0.3540,Test loss：6.96\n",
      "Epoch:162,Loss:0.3529,Test loss：6.85\n",
      "Epoch:163,Loss:0.3519,Test loss：6.79\n",
      "Epoch:164,Loss:0.3508,Test loss：6.70\n",
      "Epoch:165,Loss:0.3498,Test loss：6.59\n",
      "Epoch:166,Loss:0.3488,Test loss：6.53\n",
      "Epoch:167,Loss:0.3478,Test loss：6.44\n",
      "Epoch:168,Loss:0.3469,Test loss：6.34\n",
      "Epoch:169,Loss:0.3460,Test loss：6.29\n",
      "Epoch:170,Loss:0.3450,Test loss：6.22\n",
      "Epoch:171,Loss:0.3442,Test loss：6.12\n",
      "Epoch:172,Loss:0.3433,Test loss：6.02\n",
      "Epoch:173,Loss:0.3424,Test loss：5.99\n",
      "Epoch:174,Loss:0.3416,Test loss：5.94\n",
      "Epoch:175,Loss:0.3408,Test loss：5.88\n",
      "Epoch:176,Loss:0.3400,Test loss：5.79\n",
      "Epoch:177,Loss:0.3392,Test loss：5.70\n",
      "Epoch:178,Loss:0.3385,Test loss：5.68\n",
      "Epoch:179,Loss:0.3377,Test loss：5.65\n",
      "Epoch:180,Loss:0.3370,Test loss：5.59\n",
      "Epoch:181,Loss:0.3363,Test loss：5.51\n",
      "Epoch:182,Loss:0.3356,Test loss：5.43\n",
      "Epoch:183,Loss:0.3349,Test loss：5.36\n",
      "Epoch:184,Loss:0.3341,Test loss：5.36\n",
      "Epoch:185,Loss:0.3334,Test loss：5.35\n",
      "Epoch:186,Loss:0.3327,Test loss：5.30\n",
      "Epoch:187,Loss:0.3320,Test loss：5.22\n",
      "Epoch:188,Loss:0.3312,Test loss：5.13\n",
      "Epoch:189,Loss:0.3305,Test loss：5.06\n",
      "Epoch:190,Loss:0.3298,Test loss：5.02\n",
      "Epoch:191,Loss:0.3290,Test loss：5.01\n",
      "Epoch:192,Loss:0.3283,Test loss：5.00\n",
      "Epoch:193,Loss:0.3277,Test loss：4.98\n",
      "Epoch:194,Loss:0.3271,Test loss：4.93\n",
      "Epoch:195,Loss:0.3265,Test loss：4.87\n",
      "Epoch:196,Loss:0.3259,Test loss：4.80\n",
      "Epoch:197,Loss:0.3253,Test loss：4.76\n",
      "Epoch:198,Loss:0.3248,Test loss：4.73\n",
      "Epoch:199,Loss:0.3242,Test loss：4.72\n",
      "Epoch:200,Loss:0.3237,Test loss：4.70\n"
     ]
    }
   ],
   "source": [
    "\n",
    "for i in range(epochs):\n",
    "    # 指定模型为训练模式，计算梯度\n",
    "    net.train()\n",
    "    # 输入值都需要转化成torch的Tensor\n",
    "    \n",
    "    y_hat=net(x)\n",
    "    loss=criterion(y_hat,y) # 计算损失\n",
    "    optm.zero_grad() # 前一步的损失清零\n",
    "    loss.backward() # 反向传播\n",
    "    optm.step() # 优化\n",
    "    if (i+1)%1 ==0 : # 这里我们每100次输出相关的信息\n",
    "        # 指定模型为计算模式\n",
    "        net.eval()\n",
    "        test_in=torch.from_numpy(X_test).float()\n",
    "        test_in = test_in.reshape(-1,feature_dims)\n",
    "        test_l=torch.from_numpy(y_test).float()\n",
    "        test_l = test_l.reshape(-1,1)\n",
    "        test_out=net(test_in)\n",
    "        #print(\"test_out:\",test_out,test_out.shape)\n",
    "        #print(test_out.max(-1)[0])\n",
    "        # 使用我们的测试函数计算准确率\n",
    "        accu=criterion(test_out,test_l)\n",
    "        print(\"Epoch:{},Loss:{:.4f},Test loss：{:.2f}\".format(i+1,loss.item(),accu))"
   ]
  },
  {
   "cell_type": "code",
   "execution_count": null,
   "id": "e4e63c87-3977-4b65-9766-1e579088aa98",
   "metadata": {},
   "outputs": [],
   "source": []
  },
  {
   "cell_type": "code",
   "execution_count": 241,
   "id": "aae798db-cc45-4ef1-8320-8610bac11651",
   "metadata": {},
   "outputs": [
    {
     "data": {
      "text/plain": [
       "<matplotlib.collections.PathCollection at 0x230a160fc70>"
      ]
     },
     "execution_count": 241,
     "metadata": {},
     "output_type": "execute_result"
    },
    {
     "data": {
      "image/png": "[encoded data removed]",
      "text/plain": [
       "<Figure size 432x288 with 1 Axes>"
      ]
     },
     "metadata": {
      "needs_background": "light"
     },
     "output_type": "display_data"
    }
   ],
   "source": [
    "plt.plot(range(len(test_l)),test_l,\"r\")\n",
    "plt.scatter(range(len(test_out.detach())),test_out.detach(),c=\"g\")"
   ]
  },
  {
   "cell_type": "code",
   "execution_count": null,
   "id": "e075dd07-92f0-4a58-85b6-d967eb940012",
   "metadata": {},
   "outputs": [],
   "source": []
  },
  {
   "cell_type": "code",
   "execution_count": null,
   "id": "abac4d05-4cce-4267-813a-6f34999a90fb",
   "metadata": {},
   "outputs": [],
   "source": []
  },
  {
   "cell_type": "code",
   "execution_count": null,
   "id": "dae87fdf-8ac7-4642-af80-504f73eaff9c",
   "metadata": {},
   "outputs": [],
   "source": []
  },
  {
   "cell_type": "code",
   "execution_count": null,
   "id": "44ff1bf8-fdfc-4ca8-8fa3-bee4c9b483c5",
   "metadata": {},
   "outputs": [],
   "source": []
  }
 ],
 "metadata": {
  "kernelspec": {
   "display_name": "Python 3",
   "language": "python",
   "name": "python3"
  },
  "language_info": {
   "codemirror_mode": {
    "name": "ipython",
    "version": 3
   },
   "file_extension": ".py",
   "mimetype": "text/x-python",
   "name": "python",
   "nbconvert_exporter": "python",
   "pygments_lexer": "ipython3",
   "version": "3.8.8"
  }
 },
 "nbformat": 4,
 "nbformat_minor": 5
}
